{
 "cells": [
  {
   "cell_type": "code",
   "execution_count": 1,
   "metadata": {},
   "outputs": [],
   "source": [
    "import findspark\n",
    "from pyspark import SparkContext\n",
    "from pyspark.sql import SparkSession\n",
    "\n",
    "from src.minhash_pyspark import BigDataMinHashLSH\n",
    "\n",
    "findspark.init()  # It would crash without this\n",
    "\n",
    "sc = SparkContext(master=\"local[*]\", appName=\"MinHasher\")\n",
    "sqlContext = SparkSession.builder.getOrCreate()\n",
    "\n",
    "text_file = \"WebOfScience-5736.txt\"\n",
    "\n",
    "key_short = \"Phytoplasmas are insect-vectored bacteria that cause disease in a wide range of plant species. The increasing availability of molecular DNA analyses, expertise and additional methods in recent years has led to a proliferation of discoveries of phytoplasma-plant\"\n",
    "key_long = r\"Phytoplasmas are insect-vectored bacteria that cause disease in a wide range of plant species. The increasing availability of molecular DNA analyses, expertise and additional methods in recent years has led to a proliferation of discoveries of phytoplasma-plant host associations and in the numbers of taxonomic groupings for phytoplasmas. The widespread use of common names based on the diseases with which they are associated, as well as separate phenetic and taxonomic systems for classifying phytoplasmas based on variation at the 16S rRNA-encoding gene, complicates interpretation of the literature. We explore this issue and related trends through a focus on Australian pathosystems, providing the first comprehensive compilation of information for this continent, covering the phytoplasmas, host plants, vectors and diseases. Of the 33 16Sr groups reported internationally, only groups I, II, III, X, XI and XII have been recorded in Australia and this highlights the need for ongoing biosecurity measures to prevent the introduction of additional pathogen groups. Many of the phytoplasmas reported in Australia have not been sufficiently well studied to assign them to 16Sr groups so it is likely that unrecognized groups and sub-groups are present. Wide host plant ranges are apparent among well studied phytoplasmas, with multiple crop and non-crop species infected by some. Disease management is further complicated by the fact that putative vectors have been identified for few phytoplasmas, especially in Australia. Despite rapid progress in recent years using molecular approaches\"\n",
    "key_full = 'Phytoplasmas are insect-vectored bacteria that cause disease in a wide range of plant species. The increasing availability of molecular DNA analyses, expertise and additional methods in recent years has led to a proliferation of discoveries of phytoplasma-plant host associations and in the numbers of taxonomic groupings for phytoplasmas. The widespread use of common names based on the diseases with which they are associated, as well as separate phenetic and taxonomic systems for classifying phytoplasmas based on variation at the 16S rRNA-encoding gene, complicates interpretation of the literature. We explore this issue and related trends through a focus on Australian pathosystems, providing the first comprehensive compilation of information for this continent, covering the phytoplasmas, host plants, vectors and diseases. Of the 33 16Sr groups reported internationally, only groups I, II, III, X, XI and XII have been recorded in Australia and this highlights the need for ongoing biosecurity measures to prevent the introduction of additional pathogen groups. Many of the phytoplasmas reported in Australia have not been sufficiently well studied to assign them to 16Sr groups so it is likely that unrecognized groups and sub-groups are present. Wide host plant ranges are apparent among well studied phytoplasmas, with multiple crop and non-crop species infected by some. Disease management is further complicated by the fact that putative vectors have been identified for few phytoplasmas, especially in Australia. Despite rapid progress in recent years using molecular approaches, phytoplasmas remain the least well studied group of plant pathogens, making them a \"crouching tiger\" disease threat.'\n",
    "key_middle = r\"pathosystems, providing the first comprehensive compilation of information for this continent, covering the phytoplasmas, host plants, vectors and diseases. Of the 33 16Sr groups reported internationally, only groups I, II, III, X, XI and XII have been recorded in Australia and this highlights the need for ongoing biosecurity measures to prevent the introduction of additional pathogen groups. Many of the phytoplasmas reported in Australia have not been sufficiently well studied to assign them to 16Sr groups so it is likely that unrecognized groups and sub-groups are present. Wide host plant ranges\"\n",
    "key_end = r'Despite rapid progress in recent years using molecular approaches, phytoplasmas remain the least well studied group of plant pathogens, making them a \"crouching tiger\" disease threat.'\n",
    "\n",
    "key_final = r\"This paper focuses on a new kind of artificial neural networks - the Z-transform artificial neural networks (ZTANNs). It is proposed to use the Z-transform instead of ordinary weights and a linear activation function of an artificial neuron.\"\n",
    "key_out = \"The quick brown fox jumped over the lazy dog. Lorem ipsum dolor sit amet, consectetur adipiscing elit, sed do eiusmod tempor incididunt ut labore et dolore magna aliqua.\"\n"
   ]
  },
  {
   "cell_type": "code",
   "execution_count": 2,
   "metadata": {},
   "outputs": [
    {
     "name": "stderr",
     "output_type": "stream",
     "text": [
      "2024-08-30 07:04:43,707 - Reading the file\n",
      "2024-08-30 07:04:47,608 - Load success. Received [5736] WebOfScience-5736.txt. Took 3.90101 s\n"
     ]
    }
   ],
   "source": [
    "wos_bd = BigDataMinHashLSH.read_from_txt(text_file, sc, sqlContext)\n"
   ]
  },
  {
   "cell_type": "code",
   "execution_count": 3,
   "metadata": {},
   "outputs": [
    {
     "name": "stderr",
     "output_type": "stream",
     "text": [
      "2024-08-30 07:04:53,035 - Building shing_dict\n",
      "2024-08-30 07:05:11,700 - Shing_dict[len=464294] build is done. Took 18.66517 s.\n",
      "2024-08-30 07:05:12,427 - Precomputing minhashes\n",
      "2024-08-30 07:05:19,301 - Precomputed 28393 * 100 minhashes.Took 7.60012 s\n",
      "2024-08-30 07:05:20,897 - Caching minhash_df and lsh_df\n",
      "2024-08-30 07:05:20,995 - Caching done\n",
      "2024-08-30 07:05:20,996 - LSH Actions Completed.\n"
     ]
    }
   ],
   "source": [
    "wos_bd.run()\n"
   ]
  },
  {
   "cell_type": "code",
   "execution_count": 4,
   "metadata": {},
   "outputs": [
    {
     "name": "stderr",
     "output_type": "stream",
     "text": [
      "2024-08-30 07:06:59,498 - Found 4164 candicate documents\n",
      "2024-08-30 07:06:59,586 - Collecting 10 results to driver\n",
      "2024-08-30 07:07:04,528 - Collecting took 4.9421 s\n",
      "2024-08-30 07:07:05,046 - Took 88.14495 s\n"
     ]
    },
    {
     "name": "stdout",
     "output_type": "stream",
     "text": [
      "+----------+--------------------+--------------------+\n",
      "|        id|                text|             jaccard|\n",
      "+----------+--------------------+--------------------+\n",
      "|         0|Phytoplasmas are ...| 0.14000000059604645|\n",
      "|8589934709|Purpose: The aim ...| 0.03999999910593033|\n",
      "|       860|Grid voltage feed...| 0.03999999910593033|\n",
      "|8589936024|Avian paramyxovir...| 0.03999999910593033|\n",
      "|      1826|Background: The o...| 0.03999999910593033|\n",
      "|8589936713|Silicon Photo-Mul...| 0.03999999910593033|\n",
      "|       832|In recent years, ...|0.029999999329447746|\n",
      "|8589935645|Development of bi...|0.029999999329447746|\n",
      "|       313|One-step aldol co...|0.029999999329447746|\n",
      "|8589936165|Podcasts are digi...|0.029999999329447746|\n",
      "+----------+--------------------+--------------------+\n",
      "\n"
     ]
    }
   ],
   "source": [
    "result = wos_bd.approxNearestNeighbors(key_short, 10)\n",
    "result.show()"
   ]
  }
 ],
 "metadata": {
  "language_info": {
   "name": "python"
  }
 },
 "nbformat": 4,
 "nbformat_minor": 2
}
