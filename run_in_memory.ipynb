{
 "cells": [
  {
   "cell_type": "code",
   "execution_count": 1,
   "metadata": {},
   "outputs": [],
   "source": [
    "from src.minhash_in_memory import InMemoryMinHashLSH\n",
    "\n",
    "text_file = \"WebOfScience-5736.txt\"\n",
    "\n",
    "key_short = \"Phytoplasmas are insect-vectored bacteria that cause disease in a wide range of plant species. The increasing availability of molecular DNA analyses, expertise and additional methods in recent years has led to a proliferation of discoveries of phytoplasma-plant\"\n",
    "key_long = r\"Phytoplasmas are insect-vectored bacteria that cause disease in a wide range of plant species. The increasing availability of molecular DNA analyses, expertise and additional methods in recent years has led to a proliferation of discoveries of phytoplasma-plant host associations and in the numbers of taxonomic groupings for phytoplasmas. The widespread use of common names based on the diseases with which they are associated, as well as separate phenetic and taxonomic systems for classifying phytoplasmas based on variation at the 16S rRNA-encoding gene, complicates interpretation of the literature. We explore this issue and related trends through a focus on Australian pathosystems, providing the first comprehensive compilation of information for this continent, covering the phytoplasmas, host plants, vectors and diseases. Of the 33 16Sr groups reported internationally, only groups I, II, III, X, XI and XII have been recorded in Australia and this highlights the need for ongoing biosecurity measures to prevent the introduction of additional pathogen groups. Many of the phytoplasmas reported in Australia have not been sufficiently well studied to assign them to 16Sr groups so it is likely that unrecognized groups and sub-groups are present. Wide host plant ranges are apparent among well studied phytoplasmas, with multiple crop and non-crop species infected by some. Disease management is further complicated by the fact that putative vectors have been identified for few phytoplasmas, especially in Australia. Despite rapid progress in recent years using molecular approaches\"\n",
    "key_full = 'Phytoplasmas are insect-vectored bacteria that cause disease in a wide range of plant species. The increasing availability of molecular DNA analyses, expertise and additional methods in recent years has led to a proliferation of discoveries of phytoplasma-plant host associations and in the numbers of taxonomic groupings for phytoplasmas. The widespread use of common names based on the diseases with which they are associated, as well as separate phenetic and taxonomic systems for classifying phytoplasmas based on variation at the 16S rRNA-encoding gene, complicates interpretation of the literature. We explore this issue and related trends through a focus on Australian pathosystems, providing the first comprehensive compilation of information for this continent, covering the phytoplasmas, host plants, vectors and diseases. Of the 33 16Sr groups reported internationally, only groups I, II, III, X, XI and XII have been recorded in Australia and this highlights the need for ongoing biosecurity measures to prevent the introduction of additional pathogen groups. Many of the phytoplasmas reported in Australia have not been sufficiently well studied to assign them to 16Sr groups so it is likely that unrecognized groups and sub-groups are present. Wide host plant ranges are apparent among well studied phytoplasmas, with multiple crop and non-crop species infected by some. Disease management is further complicated by the fact that putative vectors have been identified for few phytoplasmas, especially in Australia. Despite rapid progress in recent years using molecular approaches, phytoplasmas remain the least well studied group of plant pathogens, making them a \"crouching tiger\" disease threat.'\n",
    "key_middle = r\"pathosystems, providing the first comprehensive compilation of information for this continent, covering the phytoplasmas, host plants, vectors and diseases. Of the 33 16Sr groups reported internationally, only groups I, II, III, X, XI and XII have been recorded in Australia and this highlights the need for ongoing biosecurity measures to prevent the introduction of additional pathogen groups. Many of the phytoplasmas reported in Australia have not been sufficiently well studied to assign them to 16Sr groups so it is likely that unrecognized groups and sub-groups are present. Wide host plant ranges\"\n",
    "key_end = r'Despite rapid progress in recent years using molecular approaches, phytoplasmas remain the least well studied group of plant pathogens, making them a \"crouching tiger\" disease threat.'\n",
    "\n",
    "key_final = r\"This paper focuses on a new kind of artificial neural networks - the Z-transform artificial neural networks (ZTANNs). It is proposed to use the Z-transform instead of ordinary weights and a linear activation function of an artificial neuron.\"\n",
    "key_out = \"The quick brown fox jumped over the lazy dog. Lorem ipsum dolor sit amet, consectetur adipiscing elit, sed do eiusmod tempor incididunt ut labore et dolore magna aliqua.\"\n"
   ]
  },
  {
   "cell_type": "code",
   "execution_count": 2,
   "metadata": {},
   "outputs": [
    {
     "name": "stderr",
     "output_type": "stream",
     "text": [
      "2024-08-26 21:22:54,952 - Load success. Received [5736] WebOfScience-5736.txt. Took 0.06501364707946777 s\n",
      "2024-08-26 21:22:54,953 - Starting MinHash LSH algorithm\n",
      "2024-08-26 21:22:54,954 - Starting shingling process\n",
      "2024-08-26 21:22:54,954 - Tokenizing documents\n",
      "100%|██████████| 5736/5736 [00:01<00:00, 3876.78it/s]\n",
      "2024-08-26 21:22:59,160 - Total unique shingles: 464294\n",
      "2024-08-26 21:22:59,161 - Pre-computing hash dictionary\n",
      "Precomputing minhashes: 100%|██████████| 37692/37692 [00:12<00:00, 2987.76it/s]\n",
      "2024-08-26 21:23:11,960 - MinHashing process completed in 12.80 seconds\n",
      "2024-08-26 21:23:11,962 - Creating boolean vectors\n",
      "100%|██████████| 5736/5736 [00:00<00:00, 6425.15it/s]\n",
      "2024-08-26 21:23:12,858 - Shingling process completed in 17.90 seconds\n",
      "2024-08-26 21:23:12,922 - MinHashing\n",
      "100%|██████████| 5736/5736 [02:51<00:00, 33.44it/s]\n",
      "2024-08-26 21:26:04,441 - LSH Bucketing\n",
      "100%|██████████| 5736/5736 [00:02<00:00, 1968.21it/s]\n",
      "2024-08-26 21:26:07,879 - LSH Success. Final length: 140075.\n",
      "2024-08-26 21:26:07,880 - Shingling took 17.90442 s\n",
      "2024-08-26 21:26:07,880 - Minhash   took 171.51792 s\n",
      "2024-08-26 21:26:07,881 - LSH       took 3.41400 s\n",
      "2024-08-26 21:26:07,882 - Total time: 192.92836 \n"
     ]
    },
    {
     "name": "stdout",
     "output_type": "stream",
     "text": [
      "   jaccard    id                                               text\n",
      "0     0.12     0  Phytoplasmas are insect-vectored bacteria that...\n",
      "1     0.03  3312  A sensitive and rapid sandwich immunoassay (IA...\n",
      "2     0.03  4013  The discovery and characterization of microRNA...\n",
      "3     0.03  1992  An increasing number of microRNAs (miRNAs) hav...\n",
      "4     0.03  4293  Non-tuberculous mycobacteria (NTM) are not onl...\n",
      "5     0.03  4529  The macromolecular crystallography P13 beamlin...\n",
      "6     0.03  1403  Exogenous short biologically active peptides e...\n",
      "7     0.03  1950  Regression analysis using orthogonal polynomia...\n",
      "8     0.03  3937  Hybrid microgrids are expected to play an impo...\n",
      "9     0.03  3406  During a long time, immunofluorescence has bee...\n"
     ]
    }
   ],
   "source": [
    "wos = InMemoryMinHashLSH.read_from_txt(text_file)\n",
    "wos.run()\n",
    "\n",
    "print(wos.approxNearestNeighbors(key_short, 10))\n"
   ]
  },
  {
   "cell_type": "code",
   "execution_count": 2,
   "metadata": {},
   "outputs": [
    {
     "name": "stderr",
     "output_type": "stream",
     "text": [
      "2024-08-26 21:27:29,054 - Load success. Received [5736] WebOfScience-5736.txt. Took 0.0742027759552002 s\n",
      "2024-08-26 21:27:29,055 - Starting MinHash LSH algorithm\n",
      "2024-08-26 21:27:29,056 - Starting shingling process\n",
      "2024-08-26 21:27:29,057 - Tokenizing documents\n",
      "100%|██████████| 5736/5736 [00:01<00:00, 3957.22it/s]\n",
      "2024-08-26 21:27:33,076 - Total unique shingles: 464294\n",
      "2024-08-26 21:27:33,077 - Pre-computing hash dictionary\n",
      "Precomputing minhashes: 100%|██████████| 37692/37692 [00:07<00:00, 4774.13it/s]\n",
      "2024-08-26 21:27:41,142 - MinHashing process completed in 8.06 seconds\n",
      "2024-08-26 21:27:41,144 - Creating boolean vectors\n",
      "100%|██████████| 5736/5736 [00:00<00:00, 6688.11it/s]\n",
      "2024-08-26 21:27:42,005 - Shingling process completed in 12.95 seconds\n",
      "2024-08-26 21:27:42,071 - MinHashing\n",
      "100%|██████████| 5736/5736 [01:45<00:00, 54.23it/s]\n",
      "2024-08-26 21:29:27,852 - LSH Bucketing\n",
      "100%|██████████| 5736/5736 [00:02<00:00, 2352.73it/s]\n",
      "2024-08-26 21:29:30,804 - LSH Success. Final length: 140064.\n",
      "2024-08-26 21:29:30,805 - Shingling took 12.94734 s\n",
      "2024-08-26 21:29:30,806 - Minhash   took 105.78050 s\n",
      "2024-08-26 21:29:30,806 - LSH       took 2.92848 s\n",
      "2024-08-26 21:29:30,807 - Total time: 121.75034 \n"
     ]
    },
    {
     "name": "stdout",
     "output_type": "stream",
     "text": [
      "   jaccard    id                                               text\n",
      "0     0.17     0  Phytoplasmas are insect-vectored bacteria that...\n",
      "1     0.05  2440  Cellular sensing of virus-derived nucleic acid...\n",
      "2     0.04  4781  In this paper, a new pulse width modulation (P...\n",
      "3     0.04  4290  In recent years, major advances in our underst...\n",
      "4     0.03  4455  Avian paramyxoviruses (APMVs) have been report...\n",
      "5     0.03   628  Four black fly species of the Simulium striatu...\n",
      "6     0.03  1867  A method for determining mRNA half-lives in th...\n",
      "7     0.03  1449  The aim of this research is to design a charge...\n",
      "8     0.03  2015  The emergence of proteomics has led to major t...\n",
      "9     0.03  5132  Appropriately defining and efficiently calcula...\n"
     ]
    }
   ],
   "source": [
    "wos = InMemoryMinHashLSH.read_from_txt(text_file)\n",
    "wos.run()\n",
    "\n",
    "print(wos.approxNearestNeighbors(key_short, 10))\n"
   ]
  },
  {
   "cell_type": "code",
   "execution_count": 2,
   "metadata": {},
   "outputs": [
    {
     "name": "stderr",
     "output_type": "stream",
     "text": [
      "2024-08-27 07:52:55,739 - Load success. Received [5736] WebOfScience-5736.txt. Took 0.08601927757263184 s\n",
      "2024-08-27 07:52:55,740 - Starting MinHash LSH algorithm\n",
      "2024-08-27 07:52:55,741 - Starting shingling process\n",
      "2024-08-27 07:52:55,741 - Tokenizing documents\n",
      "100%|██████████| 5736/5736 [00:01<00:00, 4063.14it/s]\n",
      "2024-08-27 07:52:59,690 - Total unique shingles: 464294\n",
      "2024-08-27 07:52:59,691 - Pre-computing hash dictionary\n",
      "Precomputing minhashes: 100%|██████████| 37692/37692 [00:08<00:00, 4428.07it/s]\n",
      "2024-08-27 07:53:08,377 - MinHashing process completed in 8.69 seconds\n",
      "2024-08-27 07:53:08,378 - Creating boolean vectors\n",
      "100%|██████████| 5736/5736 [00:00<00:00, 6754.51it/s]\n",
      "2024-08-27 07:53:09,230 - Shingling process completed in 13.49 seconds\n",
      "2024-08-27 07:53:09,293 - MinHashing\n",
      "100%|██████████| 5736/5736 [02:00<00:00, 47.74it/s]\n",
      "2024-08-27 07:55:09,438 - LSH Bucketing\n",
      "100%|██████████| 5736/5736 [00:02<00:00, 2215.87it/s]\n",
      "2024-08-27 07:55:12,565 - LSH Success. Final length: 139994.\n",
      "2024-08-27 07:55:12,566 - Shingling took 13.48861 s\n",
      "2024-08-27 07:55:12,569 - Minhash   took 120.14542 s\n",
      "2024-08-27 07:55:12,570 - LSH       took 3.09670 s\n",
      "2024-08-27 07:55:12,571 - Total time: 136.82974 \n"
     ]
    },
    {
     "name": "stdout",
     "output_type": "stream",
     "text": [
      "   jaccard    id                                               text\n",
      "0     0.14     0  Phytoplasmas are insect-vectored bacteria that...\n",
      "1     0.04  3140  Purpose: The aim of this study was to provide ...\n",
      "2     0.04   860  Grid voltage feedforward is extensively used f...\n",
      "3     0.04  5144  Silicon Photo-Multipliers (SiPM) are regarded ...\n",
      "4     0.04  4455  Avian paramyxoviruses (APMVs) have been report...\n",
      "5     0.04  1826  Background: The objective of this study was to...\n",
      "6     0.03  4563  Piezoelectric bending actuators, also known as...\n",
      "7     0.03  2982  Gamification has become a focus of attention i...\n",
      "8     0.03  1913  The efforts for more reliable power conversion...\n",
      "9     0.03  4076  Development of bioinspired devices for energy-...\n"
     ]
    }
   ],
   "source": [
    "wos = InMemoryMinHashLSH.read_from_txt(text_file)\n",
    "wos.run()\n",
    "\n",
    "print(wos.approxNearestNeighbors(key_short, 10))\n"
   ]
  }
 ],
 "metadata": {
  "language_info": {
   "name": "python"
  }
 },
 "nbformat": 4,
 "nbformat_minor": 2
}
