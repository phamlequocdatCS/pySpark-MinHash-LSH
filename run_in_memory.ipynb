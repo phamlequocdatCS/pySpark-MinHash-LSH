{
 "cells": [
  {
   "cell_type": "code",
   "execution_count": 1,
   "metadata": {},
   "outputs": [],
   "source": [
    "from src.minhash_in_memory import InMemoryMinHashLSH\n",
    "\n",
    "text_file = \"WebOfScience-5736.txt\"\n",
    "\n",
    "key_short = \"Phytoplasmas are insect-vectored bacteria that cause disease in a wide range of plant species. The increasing availability of molecular DNA analyses, expertise and additional methods in recent years has led to a proliferation of discoveries of phytoplasma-plant\"\n",
    "key_long = r\"Phytoplasmas are insect-vectored bacteria that cause disease in a wide range of plant species. The increasing availability of molecular DNA analyses, expertise and additional methods in recent years has led to a proliferation of discoveries of phytoplasma-plant host associations and in the numbers of taxonomic groupings for phytoplasmas. The widespread use of common names based on the diseases with which they are associated, as well as separate phenetic and taxonomic systems for classifying phytoplasmas based on variation at the 16S rRNA-encoding gene, complicates interpretation of the literature. We explore this issue and related trends through a focus on Australian pathosystems, providing the first comprehensive compilation of information for this continent, covering the phytoplasmas, host plants, vectors and diseases. Of the 33 16Sr groups reported internationally, only groups I, II, III, X, XI and XII have been recorded in Australia and this highlights the need for ongoing biosecurity measures to prevent the introduction of additional pathogen groups. Many of the phytoplasmas reported in Australia have not been sufficiently well studied to assign them to 16Sr groups so it is likely that unrecognized groups and sub-groups are present. Wide host plant ranges are apparent among well studied phytoplasmas, with multiple crop and non-crop species infected by some. Disease management is further complicated by the fact that putative vectors have been identified for few phytoplasmas, especially in Australia. Despite rapid progress in recent years using molecular approaches\"\n",
    "key_full = 'Phytoplasmas are insect-vectored bacteria that cause disease in a wide range of plant species. The increasing availability of molecular DNA analyses, expertise and additional methods in recent years has led to a proliferation of discoveries of phytoplasma-plant host associations and in the numbers of taxonomic groupings for phytoplasmas. The widespread use of common names based on the diseases with which they are associated, as well as separate phenetic and taxonomic systems for classifying phytoplasmas based on variation at the 16S rRNA-encoding gene, complicates interpretation of the literature. We explore this issue and related trends through a focus on Australian pathosystems, providing the first comprehensive compilation of information for this continent, covering the phytoplasmas, host plants, vectors and diseases. Of the 33 16Sr groups reported internationally, only groups I, II, III, X, XI and XII have been recorded in Australia and this highlights the need for ongoing biosecurity measures to prevent the introduction of additional pathogen groups. Many of the phytoplasmas reported in Australia have not been sufficiently well studied to assign them to 16Sr groups so it is likely that unrecognized groups and sub-groups are present. Wide host plant ranges are apparent among well studied phytoplasmas, with multiple crop and non-crop species infected by some. Disease management is further complicated by the fact that putative vectors have been identified for few phytoplasmas, especially in Australia. Despite rapid progress in recent years using molecular approaches, phytoplasmas remain the least well studied group of plant pathogens, making them a \"crouching tiger\" disease threat.'\n",
    "key_middle = r\"pathosystems, providing the first comprehensive compilation of information for this continent, covering the phytoplasmas, host plants, vectors and diseases. Of the 33 16Sr groups reported internationally, only groups I, II, III, X, XI and XII have been recorded in Australia and this highlights the need for ongoing biosecurity measures to prevent the introduction of additional pathogen groups. Many of the phytoplasmas reported in Australia have not been sufficiently well studied to assign them to 16Sr groups so it is likely that unrecognized groups and sub-groups are present. Wide host plant ranges\"\n",
    "key_end = r'Despite rapid progress in recent years using molecular approaches, phytoplasmas remain the least well studied group of plant pathogens, making them a \"crouching tiger\" disease threat.'\n",
    "\n",
    "key_final = r\"This paper focuses on a new kind of artificial neural networks - the Z-transform artificial neural networks (ZTANNs). It is proposed to use the Z-transform instead of ordinary weights and a linear activation function of an artificial neuron.\"\n",
    "key_out = \"The quick brown fox jumped over the lazy dog. Lorem ipsum dolor sit amet, consectetur adipiscing elit, sed do eiusmod tempor incididunt ut labore et dolore magna aliqua.\"\n"
   ]
  },
  {
   "cell_type": "code",
   "execution_count": 2,
   "metadata": {},
   "outputs": [
    {
     "name": "stderr",
     "output_type": "stream",
     "text": [
      "2024-08-26 21:22:54,952 - Load success. Received [5736] WebOfScience-5736.txt. Took 0.06501364707946777 s\n",
      "2024-08-26 21:22:54,953 - Starting MinHash LSH algorithm\n",
      "2024-08-26 21:22:54,954 - Starting shingling process\n",
      "2024-08-26 21:22:54,954 - Tokenizing documents\n",
      "100%|██████████| 5736/5736 [00:01<00:00, 3876.78it/s]\n",
      "2024-08-26 21:22:59,160 - Total unique shingles: 464294\n",
      "2024-08-26 21:22:59,161 - Pre-computing hash dictionary\n",
      "Precomputing minhashes: 100%|██████████| 37692/37692 [00:12<00:00, 2987.76it/s]\n",
      "2024-08-26 21:23:11,960 - MinHashing process completed in 12.80 seconds\n",
      "2024-08-26 21:23:11,962 - Creating boolean vectors\n",
      "100%|██████████| 5736/5736 [00:00<00:00, 6425.15it/s]\n",
      "2024-08-26 21:23:12,858 - Shingling process completed in 17.90 seconds\n",
      "2024-08-26 21:23:12,922 - MinHashing\n",
      "100%|██████████| 5736/5736 [02:51<00:00, 33.44it/s]\n",
      "2024-08-26 21:26:04,441 - LSH Bucketing\n",
      "100%|██████████| 5736/5736 [00:02<00:00, 1968.21it/s]\n",
      "2024-08-26 21:26:07,879 - LSH Success. Final length: 140075.\n",
      "2024-08-26 21:26:07,880 - Shingling took 17.90442 s\n",
      "2024-08-26 21:26:07,880 - Minhash   took 171.51792 s\n",
      "2024-08-26 21:26:07,881 - LSH       took 3.41400 s\n",
      "2024-08-26 21:26:07,882 - Total time: 192.92836 \n"
     ]
    },
    {
     "name": "stdout",
     "output_type": "stream",
     "text": [
      "   jaccard    id                                               text\n",
      "0     0.12     0  Phytoplasmas are insect-vectored bacteria that...\n",
      "1     0.03  3312  A sensitive and rapid sandwich immunoassay (IA...\n",
      "2     0.03  4013  The discovery and characterization of microRNA...\n",
      "3     0.03  1992  An increasing number of microRNAs (miRNAs) hav...\n",
      "4     0.03  4293  Non-tuberculous mycobacteria (NTM) are not onl...\n",
      "5     0.03  4529  The macromolecular crystallography P13 beamlin...\n",
      "6     0.03  1403  Exogenous short biologically active peptides e...\n",
      "7     0.03  1950  Regression analysis using orthogonal polynomia...\n",
      "8     0.03  3937  Hybrid microgrids are expected to play an impo...\n",
      "9     0.03  3406  During a long time, immunofluorescence has bee...\n"
     ]
    }
   ],
   "source": [
    "wos = InMemoryMinHashLSH.read_from_txt(text_file)\n",
    "wos.run()\n",
    "\n",
    "print(wos.approxNearestNeighbors(key_short, 10))\n"
   ]
  },
  {
   "cell_type": "code",
   "execution_count": 2,
   "metadata": {},
   "outputs": [
    {
     "name": "stderr",
     "output_type": "stream",
     "text": [
      "2024-08-26 21:27:29,054 - Load success. Received [5736] WebOfScience-5736.txt. Took 0.0742027759552002 s\n",
      "2024-08-26 21:27:29,055 - Starting MinHash LSH algorithm\n",
      "2024-08-26 21:27:29,056 - Starting shingling process\n",
      "2024-08-26 21:27:29,057 - Tokenizing documents\n",
      "100%|██████████| 5736/5736 [00:01<00:00, 3957.22it/s]\n",
      "2024-08-26 21:27:33,076 - Total unique shingles: 464294\n",
      "2024-08-26 21:27:33,077 - Pre-computing hash dictionary\n",
      "Precomputing minhashes: 100%|██████████| 37692/37692 [00:07<00:00, 4774.13it/s]\n",
      "2024-08-26 21:27:41,142 - MinHashing process completed in 8.06 seconds\n",
      "2024-08-26 21:27:41,144 - Creating boolean vectors\n",
      "100%|██████████| 5736/5736 [00:00<00:00, 6688.11it/s]\n",
      "2024-08-26 21:27:42,005 - Shingling process completed in 12.95 seconds\n",
      "2024-08-26 21:27:42,071 - MinHashing\n",
      "100%|██████████| 5736/5736 [01:45<00:00, 54.23it/s]\n",
      "2024-08-26 21:29:27,852 - LSH Bucketing\n",
      "100%|██████████| 5736/5736 [00:02<00:00, 2352.73it/s]\n",
      "2024-08-26 21:29:30,804 - LSH Success. Final length: 140064.\n",
      "2024-08-26 21:29:30,805 - Shingling took 12.94734 s\n",
      "2024-08-26 21:29:30,806 - Minhash   took 105.78050 s\n",
      "2024-08-26 21:29:30,806 - LSH       took 2.92848 s\n",
      "2024-08-26 21:29:30,807 - Total time: 121.75034 \n"
     ]
    },
    {
     "name": "stdout",
     "output_type": "stream",
     "text": [
      "   jaccard    id                                               text\n",
      "0     0.17     0  Phytoplasmas are insect-vectored bacteria that...\n",
      "1     0.05  2440  Cellular sensing of virus-derived nucleic acid...\n",
      "2     0.04  4781  In this paper, a new pulse width modulation (P...\n",
      "3     0.04  4290  In recent years, major advances in our underst...\n",
      "4     0.03  4455  Avian paramyxoviruses (APMVs) have been report...\n",
      "5     0.03   628  Four black fly species of the Simulium striatu...\n",
      "6     0.03  1867  A method for determining mRNA half-lives in th...\n",
      "7     0.03  1449  The aim of this research is to design a charge...\n",
      "8     0.03  2015  The emergence of proteomics has led to major t...\n",
      "9     0.03  5132  Appropriately defining and efficiently calcula...\n"
     ]
    }
   ],
   "source": [
    "wos = InMemoryMinHashLSH.read_from_txt(text_file)\n",
    "wos.run()\n",
    "\n",
    "print(wos.approxNearestNeighbors(key_short, 10))\n"
   ]
  },
  {
   "cell_type": "code",
   "execution_count": 2,
   "metadata": {},
   "outputs": [
    {
     "name": "stdout",
     "output_type": "stream",
     "text": [
      "Load success. Received [5736] WebOfScience-5736.txt. Took 0.06535 s\n",
      "Tokenizing\n"
     ]
    },
    {
     "name": "stderr",
     "output_type": "stream",
     "text": [
      "100%|██████████| 5736/5736 [00:01<00:00, 3971.93it/s]\n"
     ]
    },
    {
     "name": "stdout",
     "output_type": "stream",
     "text": [
      "Total shingles: 464294\n"
     ]
    },
    {
     "name": "stderr",
     "output_type": "stream",
     "text": [
      "Precomputing minhashes: 100%|██████████| 37692/37692 [00:12<00:00, 3030.93it/s]\n"
     ]
    },
    {
     "name": "stdout",
     "output_type": "stream",
     "text": [
      "Precomputed 37692 * 100 minhashes.Took 12.60918 s\n",
      "Booleanizing\n"
     ]
    },
    {
     "name": "stderr",
     "output_type": "stream",
     "text": [
      "100%|██████████| 5736/5736 [00:00<00:00, 6781.96it/s]\n"
     ]
    },
    {
     "name": "stdout",
     "output_type": "stream",
     "text": [
      "MinHashing\n"
     ]
    },
    {
     "name": "stderr",
     "output_type": "stream",
     "text": [
      " 16%|█▋        | 944/5736 [00:57<04:51, 16.44it/s]\n"
     ]
    },
    {
     "ename": "KeyboardInterrupt",
     "evalue": "",
     "output_type": "error",
     "traceback": [
      "\u001b[1;31m---------------------------------------------------------------------------\u001b[0m",
      "\u001b[1;31mKeyboardInterrupt\u001b[0m                         Traceback (most recent call last)",
      "Cell \u001b[1;32mIn[2], line 2\u001b[0m\n\u001b[0;32m      1\u001b[0m wos \u001b[38;5;241m=\u001b[39m InMemoryMinHashLSH\u001b[38;5;241m.\u001b[39mread_from_txt(text_file)\n\u001b[1;32m----> 2\u001b[0m \u001b[43mwos\u001b[49m\u001b[38;5;241;43m.\u001b[39;49m\u001b[43mrun\u001b[49m\u001b[43m(\u001b[49m\u001b[43m)\u001b[49m\n\u001b[0;32m      4\u001b[0m \u001b[38;5;28mprint\u001b[39m(wos\u001b[38;5;241m.\u001b[39mapproxNearestNeighbors(key_short, \u001b[38;5;241m10\u001b[39m))\n",
      "File \u001b[1;32ml:\\1 Things\\Code2\\pySpark-MinHash-LSH\\src\\in_memory.py:162\u001b[0m, in \u001b[0;36mInMemoryMinHashLSH.run\u001b[1;34m(self)\u001b[0m\n\u001b[0;32m    159\u001b[0m st \u001b[38;5;241m=\u001b[39m time\u001b[38;5;241m.\u001b[39mtime()\n\u001b[0;32m    161\u001b[0m \u001b[38;5;66;03m# Step two: Get MinHash signatures for the entire corpus\u001b[39;00m\n\u001b[1;32m--> 162\u001b[0m minhash_df \u001b[38;5;241m=\u001b[39m \u001b[38;5;28;43mself\u001b[39;49m\u001b[38;5;241;43m.\u001b[39;49m\u001b[43mminhashing\u001b[49m\u001b[43m(\u001b[49m\u001b[43mbool_vec\u001b[49m\u001b[43m)\u001b[49m\n\u001b[0;32m    163\u001b[0m mh_t \u001b[38;5;241m=\u001b[39m time\u001b[38;5;241m.\u001b[39mtime() \u001b[38;5;241m-\u001b[39m st\n\u001b[0;32m    164\u001b[0m st \u001b[38;5;241m=\u001b[39m time\u001b[38;5;241m.\u001b[39mtime()\n",
      "File \u001b[1;32ml:\\1 Things\\Code2\\pySpark-MinHash-LSH\\src\\in_memory.py:134\u001b[0m, in \u001b[0;36mInMemoryMinHashLSH.minhashing\u001b[1;34m(self, bool_vec)\u001b[0m\n\u001b[0;32m    129\u001b[0m \u001b[38;5;250m\u001b[39m\u001b[38;5;124;03m\"\"\"Perform minhashing step\u001b[39;00m\n\u001b[0;32m    130\u001b[0m \u001b[38;5;124;03mInput: bool_vec (pd.DataFrame) `<true_indices>` (output of `shingling()`)\u001b[39;00m\n\u001b[0;32m    131\u001b[0m \u001b[38;5;124;03mReturns: minhash_df `<signature>`\u001b[39;00m\n\u001b[0;32m    132\u001b[0m \u001b[38;5;124;03m\"\"\"\u001b[39;00m\n\u001b[0;32m    133\u001b[0m \u001b[38;5;28mprint\u001b[39m(\u001b[38;5;124m\"\u001b[39m\u001b[38;5;124mMinHashing\u001b[39m\u001b[38;5;124m\"\u001b[39m)\n\u001b[1;32m--> 134\u001b[0m minhash_series: pd\u001b[38;5;241m.\u001b[39mSeries \u001b[38;5;241m=\u001b[39m \u001b[43mbool_vec\u001b[49m\u001b[43m[\u001b[49m\u001b[38;5;28;43mself\u001b[39;49m\u001b[38;5;241;43m.\u001b[39;49m\u001b[43mCOL_BOOL_VEC\u001b[49m\u001b[43m]\u001b[49m\u001b[38;5;241;43m.\u001b[39;49m\u001b[43mprogress_apply\u001b[49m\u001b[43m(\u001b[49m\n\u001b[0;32m    135\u001b[0m \u001b[43m    \u001b[49m\u001b[43mhash_a_doc\u001b[49m\u001b[43m,\u001b[49m\u001b[43m \u001b[49m\u001b[43mnum_hash\u001b[49m\u001b[38;5;241;43m=\u001b[39;49m\u001b[38;5;28;43mself\u001b[39;49m\u001b[38;5;241;43m.\u001b[39;49m\u001b[43mNUM_HASH\u001b[49m\u001b[43m,\u001b[49m\u001b[43m \u001b[49m\u001b[43mhash_dict\u001b[49m\u001b[38;5;241;43m=\u001b[39;49m\u001b[38;5;28;43mself\u001b[39;49m\u001b[38;5;241;43m.\u001b[39;49m\u001b[43mhash_dict\u001b[49m\n\u001b[0;32m    136\u001b[0m \u001b[43m\u001b[49m\u001b[43m)\u001b[49m\n\u001b[0;32m    138\u001b[0m minhash_df \u001b[38;5;241m=\u001b[39m minhash_series\u001b[38;5;241m.\u001b[39mto_frame(\u001b[38;5;28mself\u001b[39m\u001b[38;5;241m.\u001b[39mCOL_SIG)\n\u001b[0;32m    140\u001b[0m \u001b[38;5;28;01mreturn\u001b[39;00m minhash_df\n",
      "File \u001b[1;32mj:\\anaconda3\\envs\\cute\\lib\\site-packages\\tqdm\\std.py:917\u001b[0m, in \u001b[0;36mtqdm.pandas.<locals>.inner_generator.<locals>.inner\u001b[1;34m(df, func, *args, **kwargs)\u001b[0m\n\u001b[0;32m    914\u001b[0m \u001b[38;5;66;03m# Apply the provided function (in **kwargs)\u001b[39;00m\n\u001b[0;32m    915\u001b[0m \u001b[38;5;66;03m# on the df using our wrapper (which provides bar updating)\u001b[39;00m\n\u001b[0;32m    916\u001b[0m \u001b[38;5;28;01mtry\u001b[39;00m:\n\u001b[1;32m--> 917\u001b[0m     \u001b[38;5;28;01mreturn\u001b[39;00m \u001b[38;5;28mgetattr\u001b[39m(df, df_function)(wrapper, \u001b[38;5;241m*\u001b[39m\u001b[38;5;241m*\u001b[39mkwargs)\n\u001b[0;32m    918\u001b[0m \u001b[38;5;28;01mfinally\u001b[39;00m:\n\u001b[0;32m    919\u001b[0m     t\u001b[38;5;241m.\u001b[39mclose()\n",
      "File \u001b[1;32mj:\\anaconda3\\envs\\cute\\lib\\site-packages\\pandas\\core\\series.py:4924\u001b[0m, in \u001b[0;36mSeries.apply\u001b[1;34m(self, func, convert_dtype, args, by_row, **kwargs)\u001b[0m\n\u001b[0;32m   4789\u001b[0m \u001b[38;5;28;01mdef\u001b[39;00m \u001b[38;5;21mapply\u001b[39m(\n\u001b[0;32m   4790\u001b[0m     \u001b[38;5;28mself\u001b[39m,\n\u001b[0;32m   4791\u001b[0m     func: AggFuncType,\n\u001b[1;32m   (...)\u001b[0m\n\u001b[0;32m   4796\u001b[0m     \u001b[38;5;241m*\u001b[39m\u001b[38;5;241m*\u001b[39mkwargs,\n\u001b[0;32m   4797\u001b[0m ) \u001b[38;5;241m-\u001b[39m\u001b[38;5;241m>\u001b[39m DataFrame \u001b[38;5;241m|\u001b[39m Series:\n\u001b[0;32m   4798\u001b[0m \u001b[38;5;250m    \u001b[39m\u001b[38;5;124;03m\"\"\"\u001b[39;00m\n\u001b[0;32m   4799\u001b[0m \u001b[38;5;124;03m    Invoke function on values of Series.\u001b[39;00m\n\u001b[0;32m   4800\u001b[0m \n\u001b[1;32m   (...)\u001b[0m\n\u001b[0;32m   4915\u001b[0m \u001b[38;5;124;03m    dtype: float64\u001b[39;00m\n\u001b[0;32m   4916\u001b[0m \u001b[38;5;124;03m    \"\"\"\u001b[39;00m\n\u001b[0;32m   4917\u001b[0m     \u001b[38;5;28;01mreturn\u001b[39;00m \u001b[43mSeriesApply\u001b[49m\u001b[43m(\u001b[49m\n\u001b[0;32m   4918\u001b[0m \u001b[43m        \u001b[49m\u001b[38;5;28;43mself\u001b[39;49m\u001b[43m,\u001b[49m\n\u001b[0;32m   4919\u001b[0m \u001b[43m        \u001b[49m\u001b[43mfunc\u001b[49m\u001b[43m,\u001b[49m\n\u001b[0;32m   4920\u001b[0m \u001b[43m        \u001b[49m\u001b[43mconvert_dtype\u001b[49m\u001b[38;5;241;43m=\u001b[39;49m\u001b[43mconvert_dtype\u001b[49m\u001b[43m,\u001b[49m\n\u001b[0;32m   4921\u001b[0m \u001b[43m        \u001b[49m\u001b[43mby_row\u001b[49m\u001b[38;5;241;43m=\u001b[39;49m\u001b[43mby_row\u001b[49m\u001b[43m,\u001b[49m\n\u001b[0;32m   4922\u001b[0m \u001b[43m        \u001b[49m\u001b[43margs\u001b[49m\u001b[38;5;241;43m=\u001b[39;49m\u001b[43margs\u001b[49m\u001b[43m,\u001b[49m\n\u001b[0;32m   4923\u001b[0m \u001b[43m        \u001b[49m\u001b[43mkwargs\u001b[49m\u001b[38;5;241;43m=\u001b[39;49m\u001b[43mkwargs\u001b[49m\u001b[43m,\u001b[49m\n\u001b[1;32m-> 4924\u001b[0m \u001b[43m    \u001b[49m\u001b[43m)\u001b[49m\u001b[38;5;241;43m.\u001b[39;49m\u001b[43mapply\u001b[49m\u001b[43m(\u001b[49m\u001b[43m)\u001b[49m\n",
      "File \u001b[1;32mj:\\anaconda3\\envs\\cute\\lib\\site-packages\\pandas\\core\\apply.py:1427\u001b[0m, in \u001b[0;36mSeriesApply.apply\u001b[1;34m(self)\u001b[0m\n\u001b[0;32m   1424\u001b[0m     \u001b[38;5;28;01mreturn\u001b[39;00m \u001b[38;5;28mself\u001b[39m\u001b[38;5;241m.\u001b[39mapply_compat()\n\u001b[0;32m   1426\u001b[0m \u001b[38;5;66;03m# self.func is Callable\u001b[39;00m\n\u001b[1;32m-> 1427\u001b[0m \u001b[38;5;28;01mreturn\u001b[39;00m \u001b[38;5;28;43mself\u001b[39;49m\u001b[38;5;241;43m.\u001b[39;49m\u001b[43mapply_standard\u001b[49m\u001b[43m(\u001b[49m\u001b[43m)\u001b[49m\n",
      "File \u001b[1;32mj:\\anaconda3\\envs\\cute\\lib\\site-packages\\pandas\\core\\apply.py:1507\u001b[0m, in \u001b[0;36mSeriesApply.apply_standard\u001b[1;34m(self)\u001b[0m\n\u001b[0;32m   1501\u001b[0m \u001b[38;5;66;03m# row-wise access\u001b[39;00m\n\u001b[0;32m   1502\u001b[0m \u001b[38;5;66;03m# apply doesn't have a `na_action` keyword and for backward compat reasons\u001b[39;00m\n\u001b[0;32m   1503\u001b[0m \u001b[38;5;66;03m# we need to give `na_action=\"ignore\"` for categorical data.\u001b[39;00m\n\u001b[0;32m   1504\u001b[0m \u001b[38;5;66;03m# TODO: remove the `na_action=\"ignore\"` when that default has been changed in\u001b[39;00m\n\u001b[0;32m   1505\u001b[0m \u001b[38;5;66;03m#  Categorical (GH51645).\u001b[39;00m\n\u001b[0;32m   1506\u001b[0m action \u001b[38;5;241m=\u001b[39m \u001b[38;5;124m\"\u001b[39m\u001b[38;5;124mignore\u001b[39m\u001b[38;5;124m\"\u001b[39m \u001b[38;5;28;01mif\u001b[39;00m \u001b[38;5;28misinstance\u001b[39m(obj\u001b[38;5;241m.\u001b[39mdtype, CategoricalDtype) \u001b[38;5;28;01melse\u001b[39;00m \u001b[38;5;28;01mNone\u001b[39;00m\n\u001b[1;32m-> 1507\u001b[0m mapped \u001b[38;5;241m=\u001b[39m \u001b[43mobj\u001b[49m\u001b[38;5;241;43m.\u001b[39;49m\u001b[43m_map_values\u001b[49m\u001b[43m(\u001b[49m\n\u001b[0;32m   1508\u001b[0m \u001b[43m    \u001b[49m\u001b[43mmapper\u001b[49m\u001b[38;5;241;43m=\u001b[39;49m\u001b[43mcurried\u001b[49m\u001b[43m,\u001b[49m\u001b[43m \u001b[49m\u001b[43mna_action\u001b[49m\u001b[38;5;241;43m=\u001b[39;49m\u001b[43maction\u001b[49m\u001b[43m,\u001b[49m\u001b[43m \u001b[49m\u001b[43mconvert\u001b[49m\u001b[38;5;241;43m=\u001b[39;49m\u001b[38;5;28;43mself\u001b[39;49m\u001b[38;5;241;43m.\u001b[39;49m\u001b[43mconvert_dtype\u001b[49m\n\u001b[0;32m   1509\u001b[0m \u001b[43m\u001b[49m\u001b[43m)\u001b[49m\n\u001b[0;32m   1511\u001b[0m \u001b[38;5;28;01mif\u001b[39;00m \u001b[38;5;28mlen\u001b[39m(mapped) \u001b[38;5;129;01mand\u001b[39;00m \u001b[38;5;28misinstance\u001b[39m(mapped[\u001b[38;5;241m0\u001b[39m], ABCSeries):\n\u001b[0;32m   1512\u001b[0m     \u001b[38;5;66;03m# GH#43986 Need to do list(mapped) in order to get treated as nested\u001b[39;00m\n\u001b[0;32m   1513\u001b[0m     \u001b[38;5;66;03m#  See also GH#25959 regarding EA support\u001b[39;00m\n\u001b[0;32m   1514\u001b[0m     \u001b[38;5;28;01mreturn\u001b[39;00m obj\u001b[38;5;241m.\u001b[39m_constructor_expanddim(\u001b[38;5;28mlist\u001b[39m(mapped), index\u001b[38;5;241m=\u001b[39mobj\u001b[38;5;241m.\u001b[39mindex)\n",
      "File \u001b[1;32mj:\\anaconda3\\envs\\cute\\lib\\site-packages\\pandas\\core\\base.py:921\u001b[0m, in \u001b[0;36mIndexOpsMixin._map_values\u001b[1;34m(self, mapper, na_action, convert)\u001b[0m\n\u001b[0;32m    918\u001b[0m \u001b[38;5;28;01mif\u001b[39;00m \u001b[38;5;28misinstance\u001b[39m(arr, ExtensionArray):\n\u001b[0;32m    919\u001b[0m     \u001b[38;5;28;01mreturn\u001b[39;00m arr\u001b[38;5;241m.\u001b[39mmap(mapper, na_action\u001b[38;5;241m=\u001b[39mna_action)\n\u001b[1;32m--> 921\u001b[0m \u001b[38;5;28;01mreturn\u001b[39;00m \u001b[43malgorithms\u001b[49m\u001b[38;5;241;43m.\u001b[39;49m\u001b[43mmap_array\u001b[49m\u001b[43m(\u001b[49m\u001b[43marr\u001b[49m\u001b[43m,\u001b[49m\u001b[43m \u001b[49m\u001b[43mmapper\u001b[49m\u001b[43m,\u001b[49m\u001b[43m \u001b[49m\u001b[43mna_action\u001b[49m\u001b[38;5;241;43m=\u001b[39;49m\u001b[43mna_action\u001b[49m\u001b[43m,\u001b[49m\u001b[43m \u001b[49m\u001b[43mconvert\u001b[49m\u001b[38;5;241;43m=\u001b[39;49m\u001b[43mconvert\u001b[49m\u001b[43m)\u001b[49m\n",
      "File \u001b[1;32mj:\\anaconda3\\envs\\cute\\lib\\site-packages\\pandas\\core\\algorithms.py:1743\u001b[0m, in \u001b[0;36mmap_array\u001b[1;34m(arr, mapper, na_action, convert)\u001b[0m\n\u001b[0;32m   1741\u001b[0m values \u001b[38;5;241m=\u001b[39m arr\u001b[38;5;241m.\u001b[39mastype(\u001b[38;5;28mobject\u001b[39m, copy\u001b[38;5;241m=\u001b[39m\u001b[38;5;28;01mFalse\u001b[39;00m)\n\u001b[0;32m   1742\u001b[0m \u001b[38;5;28;01mif\u001b[39;00m na_action \u001b[38;5;129;01mis\u001b[39;00m \u001b[38;5;28;01mNone\u001b[39;00m:\n\u001b[1;32m-> 1743\u001b[0m     \u001b[38;5;28;01mreturn\u001b[39;00m \u001b[43mlib\u001b[49m\u001b[38;5;241;43m.\u001b[39;49m\u001b[43mmap_infer\u001b[49m\u001b[43m(\u001b[49m\u001b[43mvalues\u001b[49m\u001b[43m,\u001b[49m\u001b[43m \u001b[49m\u001b[43mmapper\u001b[49m\u001b[43m,\u001b[49m\u001b[43m \u001b[49m\u001b[43mconvert\u001b[49m\u001b[38;5;241;43m=\u001b[39;49m\u001b[43mconvert\u001b[49m\u001b[43m)\u001b[49m\n\u001b[0;32m   1744\u001b[0m \u001b[38;5;28;01melse\u001b[39;00m:\n\u001b[0;32m   1745\u001b[0m     \u001b[38;5;28;01mreturn\u001b[39;00m lib\u001b[38;5;241m.\u001b[39mmap_infer_mask(\n\u001b[0;32m   1746\u001b[0m         values, mapper, mask\u001b[38;5;241m=\u001b[39misna(values)\u001b[38;5;241m.\u001b[39mview(np\u001b[38;5;241m.\u001b[39muint8), convert\u001b[38;5;241m=\u001b[39mconvert\n\u001b[0;32m   1747\u001b[0m     )\n",
      "File \u001b[1;32mlib.pyx:2972\u001b[0m, in \u001b[0;36mpandas._libs.lib.map_infer\u001b[1;34m()\u001b[0m\n",
      "File \u001b[1;32mj:\\anaconda3\\envs\\cute\\lib\\site-packages\\pandas\\core\\apply.py:1496\u001b[0m, in \u001b[0;36mSeriesApply.apply_standard.<locals>.curried\u001b[1;34m(x)\u001b[0m\n\u001b[0;32m   1495\u001b[0m \u001b[38;5;28;01mdef\u001b[39;00m \u001b[38;5;21mcurried\u001b[39m(x):\n\u001b[1;32m-> 1496\u001b[0m     \u001b[38;5;28;01mreturn\u001b[39;00m func(x, \u001b[38;5;241m*\u001b[39m\u001b[38;5;28mself\u001b[39m\u001b[38;5;241m.\u001b[39margs, \u001b[38;5;241m*\u001b[39m\u001b[38;5;241m*\u001b[39m\u001b[38;5;28mself\u001b[39m\u001b[38;5;241m.\u001b[39mkwargs)\n",
      "File \u001b[1;32mj:\\anaconda3\\envs\\cute\\lib\\site-packages\\tqdm\\std.py:912\u001b[0m, in \u001b[0;36mtqdm.pandas.<locals>.inner_generator.<locals>.inner.<locals>.wrapper\u001b[1;34m(*args, **kwargs)\u001b[0m\n\u001b[0;32m    906\u001b[0m \u001b[38;5;28;01mdef\u001b[39;00m \u001b[38;5;21mwrapper\u001b[39m(\u001b[38;5;241m*\u001b[39margs, \u001b[38;5;241m*\u001b[39m\u001b[38;5;241m*\u001b[39mkwargs):\n\u001b[0;32m    907\u001b[0m     \u001b[38;5;66;03m# update tbar correctly\u001b[39;00m\n\u001b[0;32m    908\u001b[0m     \u001b[38;5;66;03m# it seems `pandas apply` calls `func` twice\u001b[39;00m\n\u001b[0;32m    909\u001b[0m     \u001b[38;5;66;03m# on the first column/row to decide whether it can\u001b[39;00m\n\u001b[0;32m    910\u001b[0m     \u001b[38;5;66;03m# take a fast or slow code path; so stop when t.total==t.n\u001b[39;00m\n\u001b[0;32m    911\u001b[0m     t\u001b[38;5;241m.\u001b[39mupdate(n\u001b[38;5;241m=\u001b[39m\u001b[38;5;241m1\u001b[39m \u001b[38;5;28;01mif\u001b[39;00m \u001b[38;5;129;01mnot\u001b[39;00m t\u001b[38;5;241m.\u001b[39mtotal \u001b[38;5;129;01mor\u001b[39;00m t\u001b[38;5;241m.\u001b[39mn \u001b[38;5;241m<\u001b[39m t\u001b[38;5;241m.\u001b[39mtotal \u001b[38;5;28;01melse\u001b[39;00m \u001b[38;5;241m0\u001b[39m)\n\u001b[1;32m--> 912\u001b[0m     \u001b[38;5;28;01mreturn\u001b[39;00m func(\u001b[38;5;241m*\u001b[39margs, \u001b[38;5;241m*\u001b[39m\u001b[38;5;241m*\u001b[39mkwargs)\n",
      "File \u001b[1;32ml:\\1 Things\\Code2\\pySpark-MinHash-LSH\\src\\minhash_utils.py:68\u001b[0m, in \u001b[0;36mhash_a_doc\u001b[1;34m(true_indices, num_hash, hash_dict)\u001b[0m\n\u001b[0;32m     61\u001b[0m hash_family \u001b[38;5;241m=\u001b[39m [hash_family_gen(i) \u001b[38;5;28;01mfor\u001b[39;00m i \u001b[38;5;129;01min\u001b[39;00m \u001b[38;5;28mrange\u001b[39m(num_hash)]\n\u001b[0;32m     63\u001b[0m \u001b[38;5;28;01mfor\u001b[39;00m idx \u001b[38;5;129;01min\u001b[39;00m true_indices:\n\u001b[0;32m     64\u001b[0m     \u001b[38;5;66;03m# if idx in hash_dict:  # If we have precomputed the hash for this shingle\u001b[39;00m\n\u001b[0;32m     65\u001b[0m     \u001b[38;5;66;03m#     hashed_vec = hash_dict[idx]\u001b[39;00m\n\u001b[0;32m     66\u001b[0m     \u001b[38;5;66;03m# else:  # Calculate as normal\u001b[39;00m\n\u001b[0;32m     67\u001b[0m     hashed_vec \u001b[38;5;241m=\u001b[39m np\u001b[38;5;241m.\u001b[39marray(\n\u001b[1;32m---> 68\u001b[0m         [hash_fn(idx) \u001b[38;5;28;01mfor\u001b[39;00m hash_fn \u001b[38;5;129;01min\u001b[39;00m hash_family]\n\u001b[0;32m     69\u001b[0m     )\n\u001b[0;32m     70\u001b[0m     min_hash_sig \u001b[38;5;241m=\u001b[39m np\u001b[38;5;241m.\u001b[39mminimum(min_hash_sig, hashed_vec)  \u001b[38;5;66;03m# Element-wise min\u001b[39;00m\n\u001b[0;32m     72\u001b[0m str_mh_sig \u001b[38;5;241m=\u001b[39m [\u001b[38;5;28mhex\u001b[39m(sig) \u001b[38;5;28;01mfor\u001b[39;00m sig \u001b[38;5;129;01min\u001b[39;00m min_hash_sig\u001b[38;5;241m.\u001b[39mtolist()]\n",
      "File \u001b[1;32ml:\\1 Things\\Code2\\pySpark-MinHash-LSH\\src\\minhash_utils.py:68\u001b[0m, in \u001b[0;36m<listcomp>\u001b[1;34m(.0)\u001b[0m\n\u001b[0;32m     61\u001b[0m hash_family \u001b[38;5;241m=\u001b[39m [hash_family_gen(i) \u001b[38;5;28;01mfor\u001b[39;00m i \u001b[38;5;129;01min\u001b[39;00m \u001b[38;5;28mrange\u001b[39m(num_hash)]\n\u001b[0;32m     63\u001b[0m \u001b[38;5;28;01mfor\u001b[39;00m idx \u001b[38;5;129;01min\u001b[39;00m true_indices:\n\u001b[0;32m     64\u001b[0m     \u001b[38;5;66;03m# if idx in hash_dict:  # If we have precomputed the hash for this shingle\u001b[39;00m\n\u001b[0;32m     65\u001b[0m     \u001b[38;5;66;03m#     hashed_vec = hash_dict[idx]\u001b[39;00m\n\u001b[0;32m     66\u001b[0m     \u001b[38;5;66;03m# else:  # Calculate as normal\u001b[39;00m\n\u001b[0;32m     67\u001b[0m     hashed_vec \u001b[38;5;241m=\u001b[39m np\u001b[38;5;241m.\u001b[39marray(\n\u001b[1;32m---> 68\u001b[0m         [\u001b[43mhash_fn\u001b[49m\u001b[43m(\u001b[49m\u001b[43midx\u001b[49m\u001b[43m)\u001b[49m \u001b[38;5;28;01mfor\u001b[39;00m hash_fn \u001b[38;5;129;01min\u001b[39;00m hash_family]\n\u001b[0;32m     69\u001b[0m     )\n\u001b[0;32m     70\u001b[0m     min_hash_sig \u001b[38;5;241m=\u001b[39m np\u001b[38;5;241m.\u001b[39mminimum(min_hash_sig, hashed_vec)  \u001b[38;5;66;03m# Element-wise min\u001b[39;00m\n\u001b[0;32m     72\u001b[0m str_mh_sig \u001b[38;5;241m=\u001b[39m [\u001b[38;5;28mhex\u001b[39m(sig) \u001b[38;5;28;01mfor\u001b[39;00m sig \u001b[38;5;129;01min\u001b[39;00m min_hash_sig\u001b[38;5;241m.\u001b[39mtolist()]\n",
      "File \u001b[1;32ml:\\1 Things\\Code2\\pySpark-MinHash-LSH\\src\\utils.py:14\u001b[0m, in \u001b[0;36mhash_family_gen.<locals>.<lambda>\u001b[1;34m(x)\u001b[0m\n\u001b[0;32m      6\u001b[0m \u001b[38;5;250m\u001b[39m\u001b[38;5;124;03m\"\"\"Create a lambda hashing function given a seed.\u001b[39;00m\n\u001b[0;32m      7\u001b[0m \n\u001b[0;32m      8\u001b[0m \u001b[38;5;124;03mInput: seed (int)\u001b[39;00m\n\u001b[0;32m      9\u001b[0m \u001b[38;5;124;03mReturns: `lambda x: str(seed) + str(x) --> MD5 hex --> int`\u001b[39;00m\n\u001b[0;32m     10\u001b[0m \u001b[38;5;124;03m\"\"\"\u001b[39;00m\n\u001b[0;32m     11\u001b[0m \u001b[38;5;66;03m# MD5   : 32-digit hexadecimal, 128-bit integer\u001b[39;00m\n\u001b[0;32m     12\u001b[0m \u001b[38;5;66;03m# SHA256: 64-digit hexadecimal, 256-bit integer\u001b[39;00m\n\u001b[1;32m---> 14\u001b[0m \u001b[38;5;28;01mreturn\u001b[39;00m \u001b[38;5;28;01mlambda\u001b[39;00m x: \u001b[38;5;28mint\u001b[39m(md5(\u001b[43m(\u001b[49m\u001b[38;5;28;43mstr\u001b[39;49m\u001b[43m(\u001b[49m\u001b[43mseed\u001b[49m\u001b[43m)\u001b[49m\u001b[43m \u001b[49m\u001b[38;5;241;43m+\u001b[39;49m\u001b[43m \u001b[49m\u001b[38;5;28;43mstr\u001b[39;49m\u001b[43m(\u001b[49m\u001b[43mx\u001b[49m\u001b[43m)\u001b[49m\u001b[43m)\u001b[49m\u001b[38;5;241;43m.\u001b[39;49m\u001b[43mencode\u001b[49m\u001b[43m(\u001b[49m\u001b[38;5;124;43m\"\u001b[39;49m\u001b[38;5;124;43mutf-8\u001b[39;49m\u001b[38;5;124;43m\"\u001b[39;49m\u001b[43m)\u001b[49m)\u001b[38;5;241m.\u001b[39mhexdigest(), \u001b[38;5;241m16\u001b[39m)\n",
      "\u001b[1;31mKeyboardInterrupt\u001b[0m: "
     ]
    }
   ],
   "source": [
    "wos = InMemoryMinHashLSH.read_from_txt(text_file)\n",
    "wos.run()\n",
    "\n",
    "print(wos.approxNearestNeighbors(key_short, 10))\n"
   ]
  }
 ],
 "metadata": {
  "language_info": {
   "name": "python"
  }
 },
 "nbformat": 4,
 "nbformat_minor": 2
}
