{
 "cells": [
  {
   "cell_type": "code",
   "execution_count": 1,
   "metadata": {},
   "outputs": [
    {
     "name": "stdout",
     "output_type": "stream",
     "text": [
      "INFO: Pandarallel will run on 4 workers.\n",
      "INFO: Pandarallel will use standard multiprocessing data transfer (pipe) to transfer data between the main process and workers.\n",
      "\n",
      "WARNING: You are on Windows. If you detect any issue with pandarallel, be sure you checked out the Troubleshooting page:\n",
      "https://nalepae.github.io/pandarallel/troubleshooting/\n"
     ]
    }
   ],
   "source": [
    "from src.minhash_in_memory import InMemoryMinHashLSH\n",
    "\n",
    "text_file = \"WebOfScience-5736.txt\"\n",
    "\n",
    "key_short = \"Phytoplasmas are insect-vectored bacteria that cause disease in a wide range of plant species. The increasing availability of molecular DNA analyses, expertise and additional methods in recent years has led to a proliferation of discoveries of phytoplasma-plant\"\n",
    "key_long = r\"Phytoplasmas are insect-vectored bacteria that cause disease in a wide range of plant species. The increasing availability of molecular DNA analyses, expertise and additional methods in recent years has led to a proliferation of discoveries of phytoplasma-plant host associations and in the numbers of taxonomic groupings for phytoplasmas. The widespread use of common names based on the diseases with which they are associated, as well as separate phenetic and taxonomic systems for classifying phytoplasmas based on variation at the 16S rRNA-encoding gene, complicates interpretation of the literature. We explore this issue and related trends through a focus on Australian pathosystems, providing the first comprehensive compilation of information for this continent, covering the phytoplasmas, host plants, vectors and diseases. Of the 33 16Sr groups reported internationally, only groups I, II, III, X, XI and XII have been recorded in Australia and this highlights the need for ongoing biosecurity measures to prevent the introduction of additional pathogen groups. Many of the phytoplasmas reported in Australia have not been sufficiently well studied to assign them to 16Sr groups so it is likely that unrecognized groups and sub-groups are present. Wide host plant ranges are apparent among well studied phytoplasmas, with multiple crop and non-crop species infected by some. Disease management is further complicated by the fact that putative vectors have been identified for few phytoplasmas, especially in Australia. Despite rapid progress in recent years using molecular approaches\"\n",
    "key_full = 'Phytoplasmas are insect-vectored bacteria that cause disease in a wide range of plant species. The increasing availability of molecular DNA analyses, expertise and additional methods in recent years has led to a proliferation of discoveries of phytoplasma-plant host associations and in the numbers of taxonomic groupings for phytoplasmas. The widespread use of common names based on the diseases with which they are associated, as well as separate phenetic and taxonomic systems for classifying phytoplasmas based on variation at the 16S rRNA-encoding gene, complicates interpretation of the literature. We explore this issue and related trends through a focus on Australian pathosystems, providing the first comprehensive compilation of information for this continent, covering the phytoplasmas, host plants, vectors and diseases. Of the 33 16Sr groups reported internationally, only groups I, II, III, X, XI and XII have been recorded in Australia and this highlights the need for ongoing biosecurity measures to prevent the introduction of additional pathogen groups. Many of the phytoplasmas reported in Australia have not been sufficiently well studied to assign them to 16Sr groups so it is likely that unrecognized groups and sub-groups are present. Wide host plant ranges are apparent among well studied phytoplasmas, with multiple crop and non-crop species infected by some. Disease management is further complicated by the fact that putative vectors have been identified for few phytoplasmas, especially in Australia. Despite rapid progress in recent years using molecular approaches, phytoplasmas remain the least well studied group of plant pathogens, making them a \"crouching tiger\" disease threat.'\n",
    "key_middle = r\"pathosystems, providing the first comprehensive compilation of information for this continent, covering the phytoplasmas, host plants, vectors and diseases. Of the 33 16Sr groups reported internationally, only groups I, II, III, X, XI and XII have been recorded in Australia and this highlights the need for ongoing biosecurity measures to prevent the introduction of additional pathogen groups. Many of the phytoplasmas reported in Australia have not been sufficiently well studied to assign them to 16Sr groups so it is likely that unrecognized groups and sub-groups are present. Wide host plant ranges\"\n",
    "key_end = r'Despite rapid progress in recent years using molecular approaches, phytoplasmas remain the least well studied group of plant pathogens, making them a \"crouching tiger\" disease threat.'\n",
    "\n",
    "key_final = r\"This paper focuses on a new kind of artificial neural networks - the Z-transform artificial neural networks (ZTANNs). It is proposed to use the Z-transform instead of ordinary weights and a linear activation function of an artificial neuron.\"\n",
    "key_out = \"The quick brown fox jumped over the lazy dog. Lorem ipsum dolor sit amet, consectetur adipiscing elit, sed do eiusmod tempor incididunt ut labore et dolore magna aliqua.\"\n"
   ]
  },
  {
   "cell_type": "code",
   "execution_count": 2,
   "metadata": {},
   "outputs": [
    {
     "name": "stderr",
     "output_type": "stream",
     "text": [
      "2024-08-29 16:28:02,504 - Load success. Received [5736] WebOfScience-5736.txt. Took 0.06902432441711426 s\n",
      "2024-08-29 16:28:02,505 - Starting MinHash LSH algorithm\n",
      "2024-08-29 16:28:02,505 - Starting shingling process\n",
      "2024-08-29 16:28:02,506 - Tokenizing documents\n"
     ]
    },
    {
     "name": "stdout",
     "output_type": "stream",
     "text": [
      "use_parallel=False\n"
     ]
    },
    {
     "name": "stderr",
     "output_type": "stream",
     "text": [
      "100%|██████████| 5736/5736 [00:01<00:00, 3846.21it/s]\n",
      "2024-08-29 16:28:06,605 - Total unique shingles: 464294\n",
      "2024-08-29 16:28:06,606 - Pre-computing hash dictionary\n",
      "Precomputing minhashes: 100%|██████████| 37692/37692 [00:09<00:00, 4005.28it/s]\n",
      "2024-08-29 16:28:16,191 - MinHashing process completed in 9.58 seconds\n",
      "2024-08-29 16:28:16,193 - Creating boolean vectors\n",
      "100%|██████████| 5736/5736 [00:00<00:00, 5884.78it/s]\n",
      "2024-08-29 16:28:17,172 - Shingling process completed in 14.67 seconds\n",
      "2024-08-29 16:28:17,234 - MinHashing\n",
      "100%|██████████| 5736/5736 [02:06<00:00, 45.20it/s]\n",
      "2024-08-29 16:30:24,149 - LSH Bucketing\n",
      "100%|██████████| 5736/5736 [00:02<00:00, 2442.38it/s]\n",
      "2024-08-29 16:30:26,823 - LSH Success. Final length: 5736.\n",
      "2024-08-29 16:30:26,824 - Shingling took 14.66526 s\n",
      "2024-08-29 16:30:26,825 - Minhash   took 126.91458 s\n",
      "2024-08-29 16:30:26,826 - LSH       took 2.65560 s\n",
      "2024-08-29 16:30:26,827 - Total time: 144.32145 \n"
     ]
    },
    {
     "name": "stdout",
     "output_type": "stream",
     "text": [
      "Length of potential documents: 4164\n",
      "   jaccard    id                                               text\n",
      "0     0.14     0  Phytoplasmas are insect-vectored bacteria that...\n",
      "1     0.04  5144  Silicon Photo-Multipliers (SiPM) are regarded ...\n",
      "2     0.04  4455  Avian paramyxoviruses (APMVs) have been report...\n",
      "3     0.04  1826  Background: The objective of this study was to...\n",
      "4     0.04   860  Grid voltage feedforward is extensively used f...\n",
      "5     0.04  3140  Purpose: The aim of this study was to provide ...\n",
      "6     0.03  2871  Careful characterization and standardization o...\n",
      "7     0.03   468  A wide-bandwidth (BW) power-efficient continuo...\n",
      "8     0.03  2982  Gamification has become a focus of attention i...\n",
      "9     0.03  1779  To minimize the power consumption of an analog...\n"
     ]
    }
   ],
   "source": [
    "wos = InMemoryMinHashLSH.read_from_txt(text_file, do_parallel=False)\n",
    "wos.run()\n",
    "\n",
    "print(wos.approxNearestNeighbors(key_short, 10))\n"
   ]
  },
  {
   "cell_type": "code",
   "execution_count": 3,
   "metadata": {},
   "outputs": [
    {
     "name": "stderr",
     "output_type": "stream",
     "text": [
      "2024-08-29 16:18:00,158 - Load success. Received [5736] WebOfScience-5736.txt. Took 0.07201695442199707 s\n",
      "2024-08-29 16:18:00,159 - Starting MinHash LSH algorithm\n",
      "2024-08-29 16:18:00,160 - Starting shingling process\n",
      "2024-08-29 16:18:00,161 - Tokenizing documents\n",
      "100%|██████████| 5736/5736 [00:01<00:00, 3637.13it/s]\n",
      "2024-08-29 16:18:04,385 - Total unique shingles: 464294\n",
      "2024-08-29 16:18:04,386 - Pre-computing hash dictionary\n",
      "Precomputing minhashes: 100%|██████████| 37692/37692 [00:09<00:00, 4069.49it/s]\n",
      "2024-08-29 16:18:13,820 - MinHashing process completed in 9.43 seconds\n",
      "2024-08-29 16:18:13,821 - Creating boolean vectors\n",
      "100%|██████████| 5736/5736 [00:00<00:00, 5982.95it/s]\n",
      "2024-08-29 16:18:14,784 - Shingling process completed in 14.62 seconds\n",
      "2024-08-29 16:18:14,848 - MinHashing\n"
     ]
    },
    {
     "data": {
      "application/vnd.jupyter.widget-view+json": {
       "model_id": "c3e135e1e0164e1b9fdb58c6b30729d8",
       "version_major": 2,
       "version_minor": 0
      },
      "text/plain": [
       "VBox(children=(HBox(children=(IntProgress(value=0, description='0.00%', max=1434), Label(value='0 / 1434'))), …"
      ]
     },
     "metadata": {},
     "output_type": "display_data"
    },
    {
     "name": "stderr",
     "output_type": "stream",
     "text": [
      "2024-08-29 16:18:58,244 - LSH Bucketing\n",
      "100%|██████████| 5736/5736 [00:02<00:00, 2338.62it/s]\n",
      "2024-08-29 16:19:01,153 - LSH Success. Final length: 5736.\n",
      "2024-08-29 16:19:01,154 - Shingling took 14.62301 s\n",
      "2024-08-29 16:19:01,154 - Minhash   took 43.39539 s\n",
      "2024-08-29 16:19:01,155 - LSH       took 2.89021 s\n",
      "2024-08-29 16:19:01,156 - Total time: 60.99663 \n"
     ]
    },
    {
     "name": "stdout",
     "output_type": "stream",
     "text": [
      "Length of potential documents: 4164\n",
      "   jaccard    id                                               text\n",
      "0     0.14     0  Phytoplasmas are insect-vectored bacteria that...\n",
      "1     0.04  5144  Silicon Photo-Multipliers (SiPM) are regarded ...\n",
      "2     0.04  4455  Avian paramyxoviruses (APMVs) have been report...\n",
      "3     0.04  1826  Background: The objective of this study was to...\n",
      "4     0.04   860  Grid voltage feedforward is extensively used f...\n",
      "5     0.04  3140  Purpose: The aim of this study was to provide ...\n",
      "6     0.03  2871  Careful characterization and standardization o...\n",
      "7     0.03   468  A wide-bandwidth (BW) power-efficient continuo...\n",
      "8     0.03  2982  Gamification has become a focus of attention i...\n",
      "9     0.03  1779  To minimize the power consumption of an analog...\n"
     ]
    }
   ],
   "source": [
    "wos = InMemoryMinHashLSH.read_from_txt(text_file)\n",
    "wos.run()\n",
    "\n",
    "print(wos.approxNearestNeighbors(key_short, 10))\n"
   ]
  }
 ],
 "metadata": {
  "language_info": {
   "name": "python"
  }
 },
 "nbformat": 4,
 "nbformat_minor": 2
}
